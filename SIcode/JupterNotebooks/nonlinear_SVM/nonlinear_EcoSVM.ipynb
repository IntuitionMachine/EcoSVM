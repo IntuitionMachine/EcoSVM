{
 "cells": [
  {
   "cell_type": "markdown",
   "metadata": {
    "collapsed": true
   },
   "source": [
    "Nonlinearly seperable EcoSVM code,\n",
    "Owen Howell, July 15, 2019 olh20@bu.edu, https://owenhowell20.github.io\n",
    "This code runs EcoSVDM algoritm and compares with batch SVM It produces the right panel of Figure 2 in the paper"
   ]
  },
  {
   "cell_type": "code",
   "execution_count": 1,
   "metadata": {
    "ExecuteTime": {
     "end_time": "2019-07-23T19:50:35.239004Z",
     "start_time": "2019-07-23T19:50:35.057257Z"
    },
    "collapsed": true
   },
   "outputs": [],
   "source": [
    "\n",
    "\n",
    "#Import standard python packages\n",
    "import numpy as np \t\n",
    "import matplotlib.pyplot as plt\n",
    "import sys\n",
    "\n",
    "#QP is done with CVXOPT packages\n",
    "from cvxopt import matrix, solvers\n",
    "import numpy as np\n",
    "solvers.options['show_progress'] = False \n",
    "\n",
    "\n",
    "\n",
    "#A global error threshold, any small number\n",
    "thresh = 1e-3"
   ]
  },
  {
   "cell_type": "code",
   "execution_count": 2,
   "metadata": {
    "ExecuteTime": {
     "end_time": "2019-07-23T19:50:35.410143Z",
     "start_time": "2019-07-23T19:50:35.405304Z"
    },
    "collapsed": true
   },
   "outputs": [],
   "source": [
    "\n",
    "#function to generate the training data. Any weakly nonlinearly seperable dataset can be used.\n",
    "#Input is number of points, dimension and nonlinearity\n",
    "#Returns dataset and dateset labels\n",
    "def train_data(N, dimension, nonlinearity):\n",
    "\t\n",
    "\t#Draw set of random points\n",
    "\txvals = np.random.uniform(0,1,[N,dimension])\n",
    "\n",
    "\tyvals = np.zeros([N])\n",
    "\t\n",
    "\tfor i in range(N):\n",
    "\n",
    "\t\te = 1\n",
    "\n",
    "\t\tfor j in range(1,dimension):\n",
    "\n",
    "\t\t\te = e * np.sin(2*np.pi*xvals[i,j])\n",
    "\n",
    "\t\te = nonlinearity*e + 0.5\n",
    "\n",
    "\t\tif (xvals[i,0]<e):\n",
    "\t\t\tyvals[i] = +1\n",
    "\n",
    "\t\tif (xvals[i,0]>=e):\n",
    "\t\t\tyvals[i] = -1\n",
    "\n",
    "\n",
    "\n",
    "\treturn xvals, yvals\n"
   ]
  },
  {
   "cell_type": "code",
   "execution_count": 3,
   "metadata": {
    "ExecuteTime": {
     "end_time": "2019-07-23T19:50:36.017088Z",
     "start_time": "2019-07-23T19:50:36.012888Z"
    },
    "collapsed": true
   },
   "outputs": [],
   "source": [
    "\n",
    "#function to generate the test data. Any weakly nonlinearly seperable dataset can be used.\n",
    "#Input is number of points, dimension and nonlinearity\n",
    "#Returns dataset and dateset labels\n",
    "def test_data(N_test,dimension, nonlinearity):\n",
    "\t\n",
    "\t#Draw set of random points\n",
    "\txvals = np.random.uniform(0,1,[N_test,dimension])\n",
    "\n",
    "\tyvals = np.zeros([N_test])\n",
    "\n",
    "\tfor i in range(N_test):\n",
    "\n",
    "\t\te = 1\n",
    "\n",
    "\t\tfor j in range(1,dimension):\n",
    "\n",
    "\t\t\te = e * np.sin(2*np.pi*xvals[i,j])\n",
    "\n",
    "\t\te = nonlinearity*e + 0.5\n",
    "\n",
    "\t\tif (xvals[i,0]<e):\n",
    "\t\t\tyvals[i] = +1\n",
    "\n",
    "\t\tif (xvals[i,0]>=e):\n",
    "\t\t\tyvals[i] = -1\n",
    "\n",
    "\n",
    "\treturn xvals, yvals\n",
    "\n",
    "\n"
   ]
  },
  {
   "cell_type": "code",
   "execution_count": 4,
   "metadata": {
    "ExecuteTime": {
     "end_time": "2019-07-23T19:50:36.521649Z",
     "start_time": "2019-07-23T19:50:36.519104Z"
    },
    "collapsed": true
   },
   "outputs": [],
   "source": [
    "\n",
    "#defining kernel function\n",
    "def kernel(x,y):\n",
    "\n",
    "\t#Linear\n",
    "\t#np.dot(x,np.transpose(y))\n",
    "\n",
    "\t#RBF\n",
    "\t#sigma = 1.0\n",
    "\t#np.exp( -1/(2*sigma**2)  * np.dot(x - y,np.transpose(x - y))  )\n",
    "\n",
    "\treturn np.dot(x,np.transpose(y))\n"
   ]
  },
  {
   "cell_type": "code",
   "execution_count": 5,
   "metadata": {
    "ExecuteTime": {
     "end_time": "2019-07-23T19:50:36.979118Z",
     "start_time": "2019-07-23T19:50:36.969278Z"
    },
    "collapsed": true
   },
   "outputs": [],
   "source": [
    "\n",
    "#Intilize the EcoSVM, compute support vectors for first N_start points\n",
    "#Inputs are the datapoints, data label and Slack value\n",
    "#Returns the set of active datapoints, active datapoint labels, support vector values and an active index value\n",
    "def EcoSVM_initialize(xvals,yvals,C):\n",
    "\n",
    "\tN_start = len(yvals)\n",
    "\n",
    "\t#Function to generate the intial kernel matrix\n",
    "\tdef intial_kernel_matrix():\n",
    "\n",
    "\t\t#Compute the intial kernel matrix\n",
    "\t\tQmat = np.zeros([N_start,N_start])\n",
    "\n",
    "\t\tfor i in range(N_start):\n",
    "\t\t\tfor j in range(N_start):\n",
    "\n",
    "\t\t\t\t#using a linear kernel\n",
    "\t\t\t\ts =  kernel(xvals[i,:],xvals[j,:])\n",
    "\n",
    "\t\t\t\tQmat[i,j] = s*yvals[i]*yvals[j]\n",
    "\n",
    "\t\treturn Qmat\n",
    "\n",
    "\tQmat = intial_kernel_matrix()\n",
    "\n",
    "\t#Convert to CVXOPT format\n",
    "\tQ = matrix(Qmat)\n",
    "\n",
    "\tp = - np.ones(N_start)\n",
    "\tp = matrix(p)\n",
    "\n",
    "\n",
    "\tG = np.zeros([2*N_start,N_start])\n",
    "\tfor i in range(N_start):\n",
    "\t\tG[i,i] = -1\n",
    "\n",
    "\tfor i in range(N_start):\n",
    "\t\tG[i+N_start,i] = +1\n",
    "\n",
    "\tG = matrix(G)\n",
    "\n",
    "\th = np.zeros([2*N_start])\n",
    "\tfor i in range(N_start,2*N_start):\n",
    "\t\th[i] = C\n",
    "\th = matrix(h)\n",
    "\n",
    "\tA = np.zeros(N_start)\n",
    "\tfor i in range(N_start):\n",
    "\t\tA[i] = yvals[i]\n",
    "\n",
    "\tA = matrix(A,(1,N_start),'d')\n",
    "\n",
    "\tb = matrix(0.0)\n",
    "\n",
    "\tsol =  solvers.qp(Q, p, G, h, A, b)\n",
    "\n",
    "\t#the intial values of solution\n",
    "\t#KKT values a_{i}\n",
    "\tKKT = np.array( sol['x'] )\n",
    "\n",
    "\n",
    "\t#only care about non-zero values\n",
    "\tfor i in range(N_start):\n",
    "\t\tif (KKT[i] < thresh) :\n",
    "\t\t\tKKT[i] = 0.0\n",
    "\n",
    "\t#Only need to keep non-zero KKT values, also know as support vectors\n",
    "\t#Find intial support vector values and support vector indices\n",
    "\tsupport_vects_inds = np.array( np.ndarray.nonzero(KKT)[0] )\n",
    "\tsupport_vects = KKT[support_vects_inds]\n",
    "\n",
    "\t#the set of active datapoints\n",
    "\tactive_data_x = intial_xvals[support_vects_inds,:]\n",
    "\tactive_data_y = intial_yvals[support_vects_inds]\n",
    "\n",
    "\t#Check that there is at least one active support vector\n",
    "\n",
    "\tnum_active = 0\n",
    "\tfor i in range(len(support_vects_inds)):\n",
    "\n",
    "\t\tif ( (support_vects[i] - C)**2 > thresh  ):\n",
    "\n",
    "\t\t\tnum_active = num_active + 1\n",
    "\n",
    "\tif (   num_active == 0 ):\n",
    "\n",
    "\t\tprint(\"No active support vector found. Make sure that there are both +1 and -1 examples. Increase the number of intial points. Increase the slack.\")\n",
    "\t\tquit()\n",
    "\n",
    "\n",
    "\t#Find the active index\n",
    "\tindex_val = np.where(np.abs(support_vects-C) > thresh)[0][0]\n",
    "\n",
    "\t\t\t\n",
    "\treturn active_data_x, active_data_y, support_vects, index_val\n"
   ]
  },
  {
   "cell_type": "code",
   "execution_count": 6,
   "metadata": {
    "ExecuteTime": {
     "end_time": "2019-07-23T19:50:37.468094Z",
     "start_time": "2019-07-23T19:50:37.453484Z"
    },
    "collapsed": true
   },
   "outputs": [],
   "source": [
    "\n",
    "#Run the EcoSVM algorithm on a single new point\n",
    "#Inputs are datapoint X, datalabel Y, active datapoints, active data labels, set of support vectors Lagrange Multiplier, dataset dimension and Slack value\n",
    "def point_Run_EcoSVM( X, Y , active_data_x , active_data_y , support_vects , index_val , dimension , C ):\n",
    "\n",
    "\tnumsupportvects = len(active_data_y)\n",
    "\t\n",
    "\t#Find the active index\n",
    "\n",
    "\tindex_val = np.where(np.abs(support_vects-C) > thresh)[0][0]\n",
    "\n",
    "\n",
    "\ts = 0\n",
    "\n",
    "\tfor i in range(numsupportvects):\n",
    "\n",
    "\t\ts = s + active_data_y[i]*Y*( kernel( active_data_x[i,:], active_data_x[index_val,:]  ) -  kernel( active_data_x[i,:], X  )       )\n",
    "\n",
    "\n",
    "\t#Compute the invasion condition\n",
    "\tinv = 1 - Y*active_data_y[index_val] + s\n",
    "\n",
    "\tif (inv>=0):\n",
    "\n",
    "\n",
    "\t\t#The new species can invade. Recompute the steady state using QP\n",
    "\n",
    "\t\tQp = np.zeros([numsupportvects+1,numsupportvects+1])\n",
    "\n",
    "\n",
    "\t\tfor i in range(numsupportvects):\n",
    "\t\t\tfor j in range(numsupportvects):\n",
    "\n",
    "\t\t\t\t\ts = kernel(active_data_x[i,:],active_data_x[j,:])\n",
    "\n",
    "\t\t\t\t\tQp[i,j] = s*active_data_y[i]*active_data_y[j]\n",
    "\n",
    "\t\tfor i in range(numsupportvects):\n",
    "\n",
    "\t\t\ts = kernel(active_data_x[i,:], X)\n",
    "\n",
    "\t\t\tQp[i,numsupportvects] = s*active_data_y[i]*Y\n",
    "\n",
    "\t\t\tQp[numsupportvects,i] = s*active_data_y[i]*Y\n",
    "\t\t\n",
    "\n",
    "\t\ts = kernel(X,X)\n",
    "\t\n",
    "\t\tQp[numsupportvects,numsupportvects] = s*Y * Y\n",
    "\n",
    "\t\tQp = matrix(Qp)\n",
    "\n",
    "\t\tp = - np.ones(numsupportvects+1)\n",
    "\t\tp = matrix(p)\n",
    "\n",
    "\t\tG = np.zeros([2*numsupportvects+2,numsupportvects+1])\n",
    "\n",
    "\t\tfor i in range(numsupportvects+1):\n",
    "\t\t\tG[i,i] = -1\n",
    "\n",
    "\t\tfor i in range(numsupportvects+1):\n",
    "\n",
    "\t\t\tG[i+numsupportvects+1,i] = +1\n",
    "\n",
    "\n",
    "\t\tG = matrix(G)\n",
    "\n",
    "\n",
    "\t\th = np.zeros([2*numsupportvects+2])\n",
    "\t\tfor i in range(numsupportvects+1,2*numsupportvects+2):\n",
    "\t\t\th[i] = C\n",
    "\t\th = matrix(h)\n",
    "\n",
    "\t\tA = np.zeros(numsupportvects+1)\n",
    "\t\tfor i in range(numsupportvects):\n",
    "\t\t\tA[i] = active_data_y[i]\n",
    "\n",
    "\t\tA[numsupportvects] = Y\n",
    "\t\tA = matrix(A,(1,numsupportvects+1),'d')\n",
    "\n",
    "\t\tb = matrix(0.0)\n",
    "\n",
    "\t\t#Call QP function\n",
    "\t\tsol =  solvers.qp(Qp, p, G, h, A, b)\n",
    "\n",
    "\t\t#QP solution as array, all KKT values\n",
    "\t\tKKT = np.array( sol['x'] )\n",
    "\n",
    "\n",
    "\t\t#Get the new support vector indices and values\n",
    "\t\t#only care about non-zero support vectors\n",
    "\t\tcountnew = 0\n",
    "\t\tfor i in range(len(KKT)):\n",
    "\t\t\tif (KKT[i] < thresh):\n",
    "\t\t\t\tKKT[i] = 0\n",
    "\t\t\t\tcountnew = countnew + 1\n",
    "\n",
    "\t\tcountnew = len(KKT) -  countnew\n",
    "\n",
    "\n",
    "\t\t#the set of new support vectors and support vector indices\n",
    "\t\tnew_active_data_x = np.zeros([countnew, dimension])\n",
    "\t\tnew_active_data_y = np.zeros([countnew])\n",
    "\t\tnewsuppvects = np.zeros([countnew])\n",
    "\n",
    "\n",
    "\t\tauxcount = 0\n",
    "\t\tauxcount2 = 0\n",
    "\t\tfor i in range(len(KKT)-1):\n",
    "\n",
    "\t\t\tif (KKT[i] > thresh):\n",
    "\t\t\t\tnew_active_data_x[auxcount,:] = active_data_x[auxcount2,:]\n",
    "\t\t\t\tnew_active_data_y[auxcount] = active_data_y[auxcount2]\n",
    "\t\t\t\tauxcount2 = auxcount2 + 1\n",
    "\t\t\n",
    "\t\t\t\tnewsuppvects[auxcount] = KKT[i]\n",
    "\t\t\t\tauxcount = auxcount + 1\n",
    "\t\t\t\t\n",
    "\t\t\tif (KKT[i]<thresh):\n",
    "\t\t\t\tauxcount2 = auxcount2 + 1\n",
    "\n",
    "\n",
    "\t\tif (KKT[len(KKT)-1] > thresh):\n",
    "\n",
    "\n",
    "\t\t\tnew_active_data_x[auxcount,:] = X\n",
    "\t\t\tnew_active_data_y[auxcount] = Y\n",
    "\t\t\tnewsuppvects[auxcount] = KKT[len(KKT)-1]\n",
    "\n",
    "\t\t\tauxcount = auxcount + 1\n",
    "\n",
    "\n",
    "\t\t#New support vector values and indices\n",
    "\t\tsupport_vects = newsuppvects\n",
    "\n",
    "\t\tactive_data_y = new_active_data_y\n",
    "\n",
    "\t\t#zero array because it can change shape\n",
    "\t\tactive_data_x = np.zeros( [len(support_vects) , dimension ] )\n",
    "\t\tactive_data_x = new_active_data_x\n",
    "\n",
    "\t\n",
    "\treturn active_data_x, active_data_y, support_vects, index_val\n"
   ]
  },
  {
   "cell_type": "code",
   "execution_count": 7,
   "metadata": {
    "ExecuteTime": {
     "end_time": "2019-07-23T19:50:37.930497Z",
     "start_time": "2019-07-23T19:50:37.925900Z"
    },
    "collapsed": true
   },
   "outputs": [],
   "source": [
    "\n",
    "#Run the EcoSVM algorithm\n",
    "#Inputs are datapoints and labels, set of intial support vector indices, intial support vector values, intial Lagrange Multiplier and Slack Value\n",
    "#Returns the set of active datapoints, the active data labels, the support vector values and the final lagrange multiplier\n",
    "def Run_EcoSVM( xvals, yvals, active_data_x, active_data_y, support_vects, index_val , C  ):\n",
    "\n",
    "\n",
    "\ttest_accuracy = np.zeros([N - N_start])\n",
    "\n",
    "\t#the dataset dimension\n",
    "\tdimension = len(xvals[0,:])\n",
    "\n",
    "\t#Run the EcoSVM algorithm over all points\n",
    "\tfor point in range(N_start,N):\n",
    "\n",
    "\n",
    "\t\t#compute the b value\n",
    "\t\tb = b_value(active_data_x,active_data_y,support_vects,C)\n",
    "\t\n",
    "\n",
    "\t\t#Compute performance errors\n",
    "\t\tEcoSVMerror = SVM_error(test_xvals,test_yvals, active_data_x, active_data_y, support_vects,b)\n",
    "\t\t\n",
    "\n",
    "\t\ttest_accuracy[point - N_start] = 1 - EcoSVMerror\n",
    "\n",
    "\t\t\n",
    "\t\tprint(1- EcoSVMerror)\n",
    "\n",
    "\t\tX = xvals[point,:]\n",
    "\t\tY = yvals[point]\n",
    "\n",
    "\t\t\n",
    "\t#\tmake_plot2(point, active_data_x, active_data_y, support_vects)\n",
    "\n",
    "\t\t#Run the EcoSVM algorithm on a single point\n",
    "\t\tactive_data_x, active_data_y, support_vects , index_val = point_Run_EcoSVM( X , Y , active_data_x, active_data_y , support_vects, index_val , dimension , C)\n",
    "\n",
    "\t\n",
    "\t\t\n",
    "\treturn active_data_x, active_data_y , support_vects, test_accuracy\n"
   ]
  },
  {
   "cell_type": "code",
   "execution_count": 8,
   "metadata": {
    "ExecuteTime": {
     "end_time": "2019-07-23T19:50:38.372435Z",
     "start_time": "2019-07-23T19:50:38.364074Z"
    },
    "collapsed": true
   },
   "outputs": [],
   "source": [
    "\n",
    "#Run a batch SVM on all data\n",
    "#input is all training data, training labels and Slack value\n",
    "#output is the set of active datapoints and data labels and support vector values\n",
    "def batchSVM( xvals , yvals , C ):\n",
    "\n",
    "\t#the number of datapoints\n",
    "\tN = len(yvals)\n",
    "\n",
    "\t#the full kernel matrix for batch SVM\n",
    "\tQfull = np.zeros([N,N])\n",
    "\n",
    "\tfor i in range(N):\n",
    "\t\tfor j in range(N):\n",
    "\n",
    "\t\t\t#using a linear kernel\n",
    "\t\t\ts =  kernel(xvals[i,:],xvals[j,:])\n",
    "\n",
    "\t\t\tQfull[i,j] = s*yvals[i]*yvals[j]\n",
    "\n",
    "\t#The full batch SVM solution with QP\t\n",
    "\t#Convert into CVXOPT format\n",
    "\n",
    "\tQf = matrix(Qfull)\n",
    "\n",
    "\tpf = - np.ones(N)\n",
    "\tpf = matrix(pf)\n",
    "\n",
    "\tGf = np.zeros([2*N,N])\n",
    "\tfor i in range(N):\n",
    "\t\tGf[i,i] = -1\n",
    "\n",
    "\tfor i in range(N):\n",
    "\t\tGf[N+i,i] = +1\n",
    "\n",
    "\n",
    "\tGf = matrix(Gf)\n",
    "\n",
    "\thf = np.zeros([2*N])\n",
    "\tfor i in range(N,2*N):\n",
    "\t\thf[i] = C\n",
    "\n",
    "\thf = matrix(hf)\n",
    "\n",
    "\tAf = np.zeros(N)\n",
    "\tfor i in range(N):\n",
    "\t\tAf[i] = yvals[i]\n",
    "\n",
    "\tAf = matrix(Af,(1,N),'d')\n",
    "\n",
    "\tbf = matrix(0.0)\n",
    "\n",
    "\tsol =  solvers.qp(Qf, pf, Gf, hf, Af, bf)\n",
    "\n",
    "\tevars = np.array( sol['x'] )\n",
    "\n",
    "\tplt.hist(np.log10(evars[evars>0]),bins=100)\n",
    "\tplt.gca().set_xlabel(r'KKT Multiplier $a_i$')\n",
    "\tplt.show()\n",
    "    \n",
    "\t#only care about non-zero support vectors\n",
    "\tfor i in range(N):\n",
    "\t\tif (evars[i] < thresh):\n",
    "\t\t\tevars[i] = 0.0\n",
    "\n",
    "\n",
    "\t#Find support vectors and support vector indices for Batch SVM\n",
    "\tsupvectsindsfull = np.array( np.ndarray.nonzero(evars)[0] )\n",
    "\tsupvectsfull = evars[supvectsindsfull]\n",
    "\n",
    "\tactive_data_x = xvals[ supvectsindsfull , :]\n",
    "\tactive_data_y = yvals[supvectsindsfull ]\n",
    "\n",
    "\treturn active_data_x, active_data_y, supvectsfull\n",
    "\n"
   ]
  },
  {
   "cell_type": "code",
   "execution_count": 9,
   "metadata": {
    "ExecuteTime": {
     "end_time": "2019-07-23T19:50:38.785498Z",
     "start_time": "2019-07-23T19:50:38.781139Z"
    },
    "collapsed": true
   },
   "outputs": [],
   "source": [
    "\n",
    "#Compute the B value for an SVM\n",
    "#Inputs are indices and support vector values\n",
    "def b_value(active_data_x, active_data_y,supportvectors,C):\n",
    "\n",
    "\ts = 0 \n",
    "\tbp = 0\n",
    "\n",
    "\tfor i in range(len(supportvectors)):\n",
    "\t\tif np.abs(supportvectors[i] - C) > thresh:\n",
    "\t\t\tbp = bp + 1\n",
    "\n",
    "\t\t\ts = s + active_data_y[i]\n",
    "\n",
    "\t\t\tfor j in range(len(supportvectors)):\n",
    "\n",
    "\t\t\t\ts = s - supportvectors[j] * active_data_y[j] * kernel( active_data_x[i,:] ,  active_data_x[j,:] )\n",
    "\t\t\t\t\n",
    "\n",
    "\tb = 0\n",
    "\tif (bp!=0):\n",
    "\t\tb = 1/float(bp) * s\n",
    "\n",
    "\treturn b\n"
   ]
  },
  {
   "cell_type": "code",
   "execution_count": 10,
   "metadata": {
    "ExecuteTime": {
     "end_time": "2019-07-23T19:50:39.188448Z",
     "start_time": "2019-07-23T19:50:39.185314Z"
    },
    "collapsed": true
   },
   "outputs": [],
   "source": [
    "\n",
    "#the SVM prediction function\n",
    "#Inputs are datapoint x to make prediction on, set of indices, set of support vectors and b value\n",
    "#Output is the prediction value +1 or -1\n",
    "def pred(x , active_data_x, active_data_y , supportvectors , b):\n",
    "\t\n",
    "\ts = 0\n",
    "\n",
    "\tfor i in range(len(supportvectors)):\n",
    "\n",
    "\t\ts = s + active_data_y[i] * supportvectors[i] * kernel(x , active_data_x[i,:]  )\n",
    "\n",
    "\ts = s + b\n",
    "\n",
    "\n",
    "\treturn s\n"
   ]
  },
  {
   "cell_type": "code",
   "execution_count": 11,
   "metadata": {
    "ExecuteTime": {
     "end_time": "2019-07-23T19:50:39.594081Z",
     "start_time": "2019-07-23T19:50:39.590283Z"
    },
    "collapsed": true
   },
   "outputs": [],
   "source": [
    "\n",
    "#Function to compute test error\n",
    "#Inputs are testing data and labels, set of support vector indices and support vector values\n",
    "#Returns test error\n",
    "def SVM_error( test_xvals , test_yvals , active_data_x, active_data_y , support_vects, b):\n",
    "\n",
    "\t#the number of test points\n",
    "\tN_test = len( test_yvals )\n",
    "\n",
    "\t#Compute the EcoSVM error, # of missclassified points\n",
    "\terror = 0\n",
    "\tfor i in range(N_test):\n",
    "\n",
    "\n",
    "\t\tif ( test_yvals[i] != np.sign( pred( test_xvals[i] , active_data_x, active_data_y, support_vects, b ) )  ):\n",
    "\n",
    "\t\t\terror = error + 1\n",
    "\n",
    "\n",
    "\treturn error/N_test\n",
    "\n"
   ]
  },
  {
   "cell_type": "code",
   "execution_count": 12,
   "metadata": {
    "ExecuteTime": {
     "end_time": "2019-07-23T19:50:40.011897Z",
     "start_time": "2019-07-23T19:50:40.006598Z"
    },
    "collapsed": true
   },
   "outputs": [],
   "source": [
    "\n",
    "\n",
    "#These parameters are chosen to create a dataset\n",
    "#Dimension of the dataset\n",
    "dimension = 2\n",
    "\n",
    "#nonlinearlity factor of the dataset\n",
    "nonlinearity = 0.1\n",
    "\n",
    "#Total number of training points\n",
    "N = 200\n",
    "\n",
    "#Get train and test datasets, this can be user entered\n",
    "xvals, yvals = train_data(N,dimension,nonlinearity)\n",
    "\n",
    "\n",
    "#Total number of test points\n",
    "N_test = 500\n",
    "\n",
    "test_xvals , test_yvals = test_data(N_test,dimension,nonlinearity)"
   ]
  },
  {
   "cell_type": "code",
   "execution_count": 13,
   "metadata": {
    "ExecuteTime": {
     "end_time": "2019-07-23T19:50:45.829966Z",
     "start_time": "2019-07-23T19:50:40.632799Z"
    },
    "collapsed": false
   },
   "outputs": [
    {
     "data": {
      "image/png": "[encoded data removed]",
      "text/plain": [
       "<matplotlib.figure.Figure at 0x1102dc240>"
      ]
     },
     "metadata": {},
     "output_type": "display_data"
    },
    {
     "data": {
      "image/png": "[encoded data removed]",
      "text/plain": [
       "<matplotlib.figure.Figure at 0x10206134e0>"
      ]
     },
     "metadata": {},
     "output_type": "display_data"
    },
    {
     "data": {
      "image/png": "[encoded data removed]",
      "text/plain": [
       "<matplotlib.figure.Figure at 0x1020bdcf60>"
      ]
     },
     "metadata": {},
     "output_type": "display_data"
    },
    {
     "data": {
      "image/png": "[encoded data removed]",
      "text/plain": [
       "<matplotlib.figure.Figure at 0x1020ebd6d8>"
      ]
     },
     "metadata": {},
     "output_type": "display_data"
    },
    {
     "data": {
      "image/png": "[encoded data removed]",
      "text/plain": [
       "<matplotlib.figure.Figure at 0x102102e358>"
      ]
     },
     "metadata": {},
     "output_type": "display_data"
    },
    {
     "data": {
      "image/png": "[encoded data removed]",
      "text/plain": [
       "<matplotlib.figure.Figure at 0x101f9b06a0>"
      ]
     },
     "metadata": {},
     "output_type": "display_data"
    },
    {
     "data": {
      "image/png": "[encoded data removed]",
      "text/plain": [
       "<matplotlib.figure.Figure at 0x10210892b0>"
      ]
     },
     "metadata": {},
     "output_type": "display_data"
    },
    {
     "data": {
      "image/png": "[encoded data removed]",
      "text/plain": [
       "<matplotlib.figure.Figure at 0x101f743f60>"
      ]
     },
     "metadata": {},
     "output_type": "display_data"
    },
    {
     "data": {
      "image/png": "[encoded data removed]",
      "text/plain": [
       "<matplotlib.figure.Figure at 0x1020ceb1d0>"
      ]
     },
     "metadata": {},
     "output_type": "display_data"
    },
    {
     "data": {
      "image/png": "[encoded data removed]",
      "text/plain": [
       "<matplotlib.figure.Figure at 0x1020c92438>"
      ]
     },
     "metadata": {},
     "output_type": "display_data"
    },
    {
     "data": {
      "image/png": "[encoded data removed]",
      "text/plain": [
       "<matplotlib.figure.Figure at 0x102056f898>"
      ]
     },
     "metadata": {},
     "output_type": "display_data"
    },
    {
     "data": {
      "image/png": "[encoded data removed]",
      "text/plain": [
       "<matplotlib.figure.Figure at 0x10210bd668>"
      ]
     },
     "metadata": {},
     "output_type": "display_data"
    },
    {
     "data": {
      "image/png": "[encoded data removed]",
      "text/plain": [
       "<matplotlib.figure.Figure at 0x1021079b00>"
      ]
     },
     "metadata": {},
     "output_type": "display_data"
    },
    {
     "data": {
      "image/png": "[encoded data removed]",
      "text/plain": [
       "<matplotlib.figure.Figure at 0x1020cad4e0>"
      ]
     },
     "metadata": {},
     "output_type": "display_data"
    },
    {
     "data": {
      "image/png": "[encoded data removed]",
      "text/plain": [
       "<matplotlib.figure.Figure at 0x1020bf0518>"
      ]
     },
     "metadata": {},
     "output_type": "display_data"
    },
    {
     "data": {
      "image/png": "[encoded data removed]",
      "text/plain": [
       "<matplotlib.figure.Figure at 0x1020f5b0b8>"
      ]
     },
     "metadata": {},
     "output_type": "display_data"
    },
    {
     "data": {
      "image/png": "[encoded data removed]",
      "text/plain": [
       "<matplotlib.figure.Figure at 0x1021117080>"
      ]
     },
     "metadata": {},
     "output_type": "display_data"
    },
    {
     "data": {
      "image/png": "[encoded data removed]",
      "text/plain": [
       "<matplotlib.figure.Figure at 0x1020c5e3c8>"
      ]
     },
     "metadata": {},
     "output_type": "display_data"
    },
    {
     "data": {
      "image/png": "[encoded data removed]",
      "text/plain": [
       "<matplotlib.figure.Figure at 0x102111dbe0>"
      ]
     },
     "metadata": {},
     "output_type": "display_data"
    },
    {
     "data": {
      "image/png": "[encoded data removed]",
      "text/plain": [
       "<matplotlib.figure.Figure at 0x1020d77b00>"
      ]
     },
     "metadata": {},
     "output_type": "display_data"
    },
    {
     "data": {
      "image/png": "[encoded data removed]",
      "text/plain": [
       "<matplotlib.figure.Figure at 0x101f745128>"
      ]
     },
     "metadata": {},
     "output_type": "display_data"
    },
    {
     "data": {
      "image/png": "[encoded data removed]",
      "text/plain": [
       "<matplotlib.figure.Figure at 0x1020591588>"
      ]
     },
     "metadata": {},
     "output_type": "display_data"
    },
    {
     "data": {
      "image/png": "[encoded data removed]",
      "text/plain": [
       "<matplotlib.figure.Figure at 0x11e071f28>"
      ]
     },
     "metadata": {},
     "output_type": "display_data"
    },
    {
     "data": {
      "image/png": "[encoded data removed]",
      "text/plain": [
       "<matplotlib.figure.Figure at 0x1020c1a2b0>"
      ]
     },
     "metadata": {},
     "output_type": "display_data"
    },
    {
     "data": {
      "image/png": "[encoded data removed]",
      "text/plain": [
       "<matplotlib.figure.Figure at 0x1020c4f1d0>"
      ]
     },
     "metadata": {},
     "output_type": "display_data"
    },
    {
     "data": {
      "image/png": "[encoded data removed]",
      "text/plain": [
       "<matplotlib.figure.Figure at 0x1021128080>"
      ]
     },
     "metadata": {},
     "output_type": "display_data"
    },
    {
     "data": {
      "image/png": "[encoded data removed]",
      "text/plain": [
       "<matplotlib.figure.Figure at 0x10205a25c0>"
      ]
     },
     "metadata": {},
     "output_type": "display_data"
    },
    {
     "data": {
      "image/png": "[encoded data removed]",
      "text/plain": [
       "<matplotlib.figure.Figure at 0x10208ddac8>"
      ]
     },
     "metadata": {},
     "output_type": "display_data"
    },
    {
     "data": {
      "image/png": "[encoded data removed]",
      "text/plain": [
       "<matplotlib.figure.Figure at 0x1020f71128>"
      ]
     },
     "metadata": {},
     "output_type": "display_data"
    },
    {
     "data": {
      "image/png": "[encoded data removed]",
      "text/plain": [
       "<matplotlib.figure.Figure at 0x10210f31d0>"
      ]
     },
     "metadata": {},
     "output_type": "display_data"
    },
    {
     "data": {
      "image/png": "[encoded data removed]",
      "text/plain": [
       "<matplotlib.figure.Figure at 0x10208a90b8>"
      ]
     },
     "metadata": {},
     "output_type": "display_data"
    },
    {
     "data": {
      "image/png": "[encoded data removed]",
      "text/plain": [
       "<matplotlib.figure.Figure at 0x10210ff860>"
      ]
     },
     "metadata": {},
     "output_type": "display_data"
    },
    {
     "data": {
      "image/png": "[encoded data removed]",
      "text/plain": [
       "<matplotlib.figure.Figure at 0x1020dff588>"
      ]
     },
     "metadata": {},
     "output_type": "display_data"
    },
    {
     "data": {
      "image/png": "[encoded data removed]",
      "text/plain": [
       "<matplotlib.figure.Figure at 0x11e071f28>"
      ]
     },
     "metadata": {},
     "output_type": "display_data"
    },
    {
     "data": {
      "image/png": "[encoded data removed]",
      "text/plain": [
       "<matplotlib.figure.Figure at 0x1020d21940>"
      ]
     },
     "metadata": {},
     "output_type": "display_data"
    },
    {
     "data": {
      "image/png": "[encoded data removed]",
      "text/plain": [
       "<matplotlib.figure.Figure at 0x1021033dd8>"
      ]
     },
     "metadata": {},
     "output_type": "display_data"
    },
    {
     "data": {
      "image/png": "[encoded data removed]",
      "text/plain": [
       "<matplotlib.figure.Figure at 0x1020ed91d0>"
      ]
     },
     "metadata": {},
     "output_type": "display_data"
    },
    {
     "data": {
      "image/png": "[encoded data removed]",
      "text/plain": [
       "<matplotlib.figure.Figure at 0x1020408b00>"
      ]
     },
     "metadata": {},
     "output_type": "display_data"
    },
    {
     "data": {
      "image/png": "[encoded data removed]",
      "text/plain": [
       "<matplotlib.figure.Figure at 0x1020527940>"
      ]
     },
     "metadata": {},
     "output_type": "display_data"
    },
    {
     "data": {
      "image/png": "[encoded data removed]",
      "text/plain": [
       "<matplotlib.figure.Figure at 0x1020465e10>"
      ]
     },
     "metadata": {},
     "output_type": "display_data"
    },
    {
     "data": {
      "image/png": "[encoded data removed]",
      "text/plain": [
       "<matplotlib.figure.Figure at 0x1020f775f8>"
      ]
     },
     "metadata": {},
     "output_type": "display_data"
    },
    {
     "data": {
      "image/png": "[encoded data removed]",
      "text/plain": [
       "<matplotlib.figure.Figure at 0x1020491ac8>"
      ]
     },
     "metadata": {},
     "output_type": "display_data"
    },
    {
     "data": {
      "image/png": "[encoded data removed]",
      "text/plain": [
       "<matplotlib.figure.Figure at 0x1020920eb8>"
      ]
     },
     "metadata": {},
     "output_type": "display_data"
    },
    {
     "data": {
      "image/png": "[encoded data removed]",
      "text/plain": [
       "<matplotlib.figure.Figure at 0x1020ced5f8>"
      ]
     },
     "metadata": {},
     "output_type": "display_data"
    },
    {
     "name": "stdout",
     "output_type": "stream",
     "text": [
      "4.07094185430825\n"
     ]
    }
   ],
   "source": [
    "\n",
    "#The batch SVM loss as a function of slack value\n",
    "def batch_loss(C):\n",
    "\n",
    "\t#Get the full batch solution to compare\n",
    "\tbatch_data_x, batch_data_y,  batch_support_vects = batchSVM( xvals,yvals , C )\n",
    "\n",
    "\tbfull = b_value(batch_data_x,batch_data_y,batch_support_vects,C)\n",
    "\n",
    "\tbatcherror = SVM_error(test_xvals,test_yvals, batch_data_x, batch_data_y, batch_support_vects,bfull)\n",
    "\n",
    "\treturn batcherror\n",
    "\n",
    "\n",
    "import scipy.optimize\n",
    "#Tune over slack value\n",
    "C = scipy.optimize.golden(batch_loss)\n",
    "\n",
    "print(C)"
   ]
  },
  {
   "cell_type": "code",
   "execution_count": null,
   "metadata": {
    "ExecuteTime": {
     "end_time": "2019-07-23T19:50:58.335995Z",
     "start_time": "2019-07-23T19:50:54.340358Z"
    },
    "collapsed": false
   },
   "outputs": [
    {
     "name": "stdout",
     "output_type": "stream",
     "text": [
      "No active support vector found. Make sure that there are both +1 and -1 examples. Increase the number of intial points. Increase the slack.\n"
     ]
    },
    {
     "ename": "IndexError",
     "evalue": "index 0 is out of bounds for axis 0 with size 0",
     "output_type": "error",
     "traceback": [
      "\u001b[0;31m---------------------------------------------------------------------------\u001b[0m",
      "\u001b[0;31mIndexError\u001b[0m                                Traceback (most recent call last)",
      "\u001b[0;32m<ipython-input-14-732a3b1eb162>\u001b[0m in \u001b[0;36m<module>\u001b[0;34m()\u001b[0m\n\u001b[1;32m     10\u001b[0m \u001b[0;34m\u001b[0m\u001b[0m\n\u001b[1;32m     11\u001b[0m \u001b[0;31m#Get the intial set of active datapoints, active datapoint labels, support vector values and the Lagrange multiplier\u001b[0m\u001b[0;34m\u001b[0m\u001b[0;34m\u001b[0m\u001b[0;34m\u001b[0m\u001b[0m\n\u001b[0;32m---> 12\u001b[0;31m \u001b[0mintial_active_data_x\u001b[0m\u001b[0;34m,\u001b[0m \u001b[0mintial_active_data_y\u001b[0m\u001b[0;34m,\u001b[0m \u001b[0mintial_support_vects\u001b[0m\u001b[0;34m,\u001b[0m \u001b[0mindex_val\u001b[0m \u001b[0;34m=\u001b[0m \u001b[0mEcoSVM_initialize\u001b[0m\u001b[0;34m(\u001b[0m\u001b[0mintial_xvals\u001b[0m\u001b[0;34m,\u001b[0m\u001b[0mintial_yvals\u001b[0m\u001b[0;34m,\u001b[0m\u001b[0mC\u001b[0m\u001b[0;34m)\u001b[0m\u001b[0;34m\u001b[0m\u001b[0;34m\u001b[0m\u001b[0m\n\u001b[0m\u001b[1;32m     13\u001b[0m \u001b[0;34m\u001b[0m\u001b[0m\n\u001b[1;32m     14\u001b[0m \u001b[0;34m\u001b[0m\u001b[0m\n",
      "\u001b[0;32m<ipython-input-5-65a39567ef41>\u001b[0m in \u001b[0;36mEcoSVM_initialize\u001b[0;34m(xvals, yvals, C)\u001b[0m\n\u001b[1;32m     91\u001b[0m \u001b[0;34m\u001b[0m\u001b[0m\n\u001b[1;32m     92\u001b[0m         \u001b[0;31m#Find the active index\u001b[0m\u001b[0;34m\u001b[0m\u001b[0;34m\u001b[0m\u001b[0;34m\u001b[0m\u001b[0m\n\u001b[0;32m---> 93\u001b[0;31m         \u001b[0mindex_val\u001b[0m \u001b[0;34m=\u001b[0m \u001b[0mnp\u001b[0m\u001b[0;34m.\u001b[0m\u001b[0mwhere\u001b[0m\u001b[0;34m(\u001b[0m\u001b[0mnp\u001b[0m\u001b[0;34m.\u001b[0m\u001b[0mabs\u001b[0m\u001b[0;34m(\u001b[0m\u001b[0msupport_vects\u001b[0m\u001b[0;34m-\u001b[0m\u001b[0mC\u001b[0m\u001b[0;34m)\u001b[0m \u001b[0;34m>\u001b[0m \u001b[0mthresh\u001b[0m\u001b[0;34m)\u001b[0m\u001b[0;34m[\u001b[0m\u001b[0;36m0\u001b[0m\u001b[0;34m]\u001b[0m\u001b[0;34m[\u001b[0m\u001b[0;36m0\u001b[0m\u001b[0;34m]\u001b[0m\u001b[0;34m\u001b[0m\u001b[0;34m\u001b[0m\u001b[0m\n\u001b[0m\u001b[1;32m     94\u001b[0m \u001b[0;34m\u001b[0m\u001b[0m\n\u001b[1;32m     95\u001b[0m \u001b[0;34m\u001b[0m\u001b[0m\n",
      "\u001b[0;31mIndexError\u001b[0m: index 0 is out of bounds for axis 0 with size 0"
     ]
    }
   ],
   "source": [
    "\n",
    "#Intial number of points used to compute steady state, can be user entered\n",
    "N_start = 20\n",
    "\n",
    "#the intial datapoints and labels\n",
    "intial_xvals = xvals[0:N_start,:]\n",
    "intial_yvals = yvals[0:N_start]\n",
    "\n",
    "C = 15\n",
    "\n",
    "#Get the intial set of active datapoints, active datapoint labels, support vector values and the Lagrange multiplier\n",
    "intial_active_data_x, intial_active_data_y, intial_support_vects, index_val = EcoSVM_initialize(intial_xvals,intial_yvals,C)\n",
    "\n",
    "\n",
    "#Run the EcoSVM algorithm on the dataset\n",
    "active_data_x, active_data_y , support_vects , test_accuracy = Run_EcoSVM( xvals, yvals, intial_active_data_x, intial_active_data_y, intial_support_vects, index_val,  C  )\n",
    "\n",
    "\n",
    "#Get the full batch solution to compare\n",
    "batch_data_x, batch_data_y,  batch_support_vects = batchSVM( xvals,yvals , C )\n",
    "\n",
    "\n",
    "\n",
    "\n",
    "\n",
    "#compute the b value\n",
    "b = b_value(active_data_x,active_data_y,support_vects,C)\n",
    "bfull = b_value(batch_data_x,batch_data_y,batch_support_vects,C)\n",
    "\n",
    "\n",
    "#Compute performance errors\n",
    "EcoSVMerror = SVM_error(xvals,yvals, active_data_x, active_data_y, support_vects,b)\n",
    "print('EcoSVM train error:',EcoSVMerror)\n",
    "EcoSVMerror = SVM_error(test_xvals,test_yvals, active_data_x, active_data_y, support_vects,b)\n",
    "print('EcoSVM test error:',EcoSVMerror)\n",
    "\n",
    "print('')\n",
    "\n",
    "batcherror = SVM_error(xvals,yvals, batch_data_x, batch_data_y , batch_support_vects,bfull)\n",
    "print('Batch SVM train error:', batcherror)\n",
    "batcherror = SVM_error(test_xvals,test_yvals, batch_data_x, batch_data_y, batch_support_vects,bfull)\n",
    "print('Batch SVM test error:', batcherror)\n",
    "\n",
    "\n"
   ]
  },
  {
   "cell_type": "code",
   "execution_count": null,
   "metadata": {
    "ExecuteTime": {
     "end_time": "2019-07-23T19:51:23.859536Z",
     "start_time": "2019-07-23T19:51:21.374666Z"
    },
    "collapsed": false
   },
   "outputs": [],
   "source": [
    "\n",
    "#Function to make prediction plots\n",
    "#See main text for detail\n",
    "#only make plots in two dimensions\n",
    "def make_plot():\n",
    "\n",
    "\t#Only make plots for two dimensional data\n",
    "\tif (dimension!=2):\n",
    "\t\tquit()\n",
    "\n",
    "\n",
    "\t#Make prediction plots\n",
    "\tk = 100\n",
    "\tbatch_preds = np.zeros([k,k])\n",
    "\tEcoSVM_preds = np.zeros([k,k])\n",
    "\tx = 0\n",
    "\ty = 0\n",
    "\tdl = 1/k\n",
    "\n",
    "\tfor i in range(k):\n",
    "\n",
    "\t\tx = 0\n",
    "\n",
    "\t\tfor j in range(k):\n",
    "\n",
    "\t\t\tbatch_preds[i,j] = np.sign( pred([x,y],batch_data_x,batch_data_y, batch_support_vects,bfull) )\n",
    "\n",
    "\t\t\tEcoSVM_preds[i,j] = np.sign( pred( [x,y] , active_data_x, active_data_y, support_vects,b ) )\n",
    "\n",
    "\t\t\tx = x + dl\n",
    "\n",
    "\t\ty = y + dl\n",
    "\n",
    "\n",
    "\tdiffs = 0*batch_preds\n",
    "\n",
    "\tx = 0\n",
    "\ty = 0\n",
    "\tdl = 1/k\n",
    "\n",
    "\tfor i in range(k):\n",
    "\n",
    "\t\tx = 0\n",
    "\n",
    "\t\tfor j in range(k):\n",
    "\n",
    "\t\t\tif (batch_preds[i,j] == EcoSVM_preds[i,j]):\n",
    "\n",
    "\t\t\t\tif (EcoSVM_preds[i,j]==1):\n",
    "\n",
    "\t\t\t\t\tdiffs[i,j] = -1\n",
    "\n",
    "\t\t\t\tif (EcoSVM_preds[i,j]==-1):\n",
    "\n",
    "\t\t\t\t\tdiffs[i,j] = 1\n",
    "\n",
    "\n",
    "\n",
    "\t\t\tif (batch_preds[i,j]!=EcoSVM_preds[i,j]):\n",
    "\n",
    "\t\t\t\tdiffs[i,j] = 3\n",
    "\n",
    "\t\t\tx = x + dl\n",
    "\n",
    "\t\ty = y + dl\n",
    "\n",
    "\n",
    "\n",
    "\t#plot first 100 train datapoints\n",
    "\tfor i in range(100):\n",
    "\n",
    "\t\tif (yvals[i]==1):\n",
    "\t\t\tplt.plot(xvals[i,0],xvals[i,1],'.',c='g',marker='P',markersize=8,markeredgecolor='black')\n",
    "\n",
    "\t\tif (yvals[i]==-1):\n",
    "\t\t\tplt.plot(xvals[i,0],xvals[i,1],'.',c='r',marker='o',markersize=8,markeredgecolor='black')\n",
    "\n",
    "\n",
    "\n",
    "\t#also plot all active support vectors in larger markers\n",
    "\tfor i in range(len(support_vects)):\n",
    "\n",
    "\t\tif ( (support_vects[i] - C)**2 > thresh  ):\n",
    "\n",
    "\t\t\tif (active_data_y[i]==1):\n",
    "\n",
    "\t\t\t\tplt.plot(active_data_x[i,0],active_data_x[i,1],'.',c='g',marker='P',markersize=22,markeredgecolor='black')\n",
    "\n",
    "\t\t\tif (active_data_y[i]==-1):\n",
    "\n",
    "\t\t\t\tplt.plot(active_data_x[i,0], active_data_x[i,1],'.',c='r',marker='o',markersize=22,markeredgecolor='black')\n",
    "\n",
    "\n",
    "\t\t#if (  (support_vects[i] - C )**2 < thresh ):\n",
    "\n",
    "\t\t#\tif (active_data_y[i]==1):\n",
    "\n",
    "\t\t#\t\tplt.plot(active_data_x[i,0],active_data_x[i,1],'.',c='g',marker='P',markersize=22,markeredgecolor='black')\n",
    "\n",
    "\t\t#\tif (active_data_y[i]==-1):\n",
    "\n",
    "\t\t#\t\tplt.plot(active_data_x[i,0], active_data_x[i,1],'.',c='r',marker='o',markersize=22,markeredgecolor='black')\n",
    "\n",
    "\n",
    "\n",
    "\n",
    "\n",
    "\tfontsize = 20\n",
    "\tplt.ylim(0,1)\n",
    "\tplt.xlim(0,1)\n",
    "\tplt.grid()\n",
    "\tplt.tick_params(labelsize=fontsize)\n",
    "\tplt.xlabel(\"$X_{1}$\",size=fontsize+2)\n",
    "\tplt.ylabel(\"$X_{2}$\",size = fontsize+2)\n",
    "\n",
    "\n",
    "\tfrom pylab import rcParams\n",
    "\trcParams['figure.figsize'] = 500, 500\n",
    "\n",
    "\t\n",
    "\tgspace = np.linspace(0,1,100)\n",
    "\tyspace = 0.5 + nonlinearity*np.sin(2*np.pi*gspace)\n",
    "\tplt.plot(yspace,gspace,linestyle='--',linewidth=5,color='k')\n",
    "\n",
    "\n",
    "\tplt.imshow(diffs,origin='lower',extent=(0,1,0,1),cmap='cool')\n",
    "\tplt.tight_layout()\n",
    "\tplt.show()\n",
    "    \n",
    "\treturn diffs\n",
    "\n",
    "\n",
    "\n",
    "diffs = make_plot()\n"
   ]
  },
  {
   "cell_type": "code",
   "execution_count": null,
   "metadata": {
    "collapsed": true
   },
   "outputs": [],
   "source": []
  },
  {
   "cell_type": "code",
   "execution_count": null,
   "metadata": {
    "collapsed": true
   },
   "outputs": [],
   "source": []
  }
 ],
 "metadata": {
  "kernelspec": {
   "display_name": "Python 3",
   "language": "python",
   "name": "python3"
  },
  "language_info": {
   "codemirror_mode": {
    "name": "ipython",
    "version": 3
   },
   "file_extension": ".py",
   "mimetype": "text/x-python",
   "name": "python",
   "nbconvert_exporter": "python",
   "pygments_lexer": "ipython3",
   "version": "3.6.8"
  },
  "toc": {
   "base_numbering": 1,
   "nav_menu": {},
   "number_sections": true,
   "sideBar": true,
   "skip_h1_title": false,
   "title_cell": "Table of Contents",
   "title_sidebar": "Contents",
   "toc_cell": false,
   "toc_position": {},
   "toc_section_display": true,
   "toc_window_display": false
  },
  "varInspector": {
   "cols": {
    "lenName": 16,
    "lenType": 16,
    "lenVar": 40
   },
   "kernels_config": {
    "python": {
     "delete_cmd_postfix": "",
     "delete_cmd_prefix": "del ",
     "library": "var_list.py",
     "varRefreshCmd": "print(var_dic_list())"
    },
    "r": {
     "delete_cmd_postfix": ") ",
     "delete_cmd_prefix": "rm(",
     "library": "var_list.r",
     "varRefreshCmd": "cat(var_dic_list()) "
    }
   },
   "types_to_exclude": [
    "module",
    "function",
    "builtin_function_or_method",
    "instance",
    "_Feature"
   ],
   "window_display": false
  }
 },
 "nbformat": 4,
 "nbformat_minor": 2
}
